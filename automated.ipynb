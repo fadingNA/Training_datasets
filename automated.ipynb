{
 "cells": [
  {
   "cell_type": "code",
   "execution_count": 45,
   "metadata": {},
   "outputs": [],
   "source": [
    "import pytest\n",
    "import os\n",
    "import constants\n",
    "import openai\n",
    "import difflib"
   ]
  },
  {
   "cell_type": "code",
   "execution_count": 46,
   "metadata": {},
   "outputs": [],
   "source": [
    "os.environ[\"OPENAI_API_KEY\"] = constants.APIKEY"
   ]
  },
  {
   "cell_type": "code",
   "execution_count": 47,
   "metadata": {},
   "outputs": [],
   "source": [
    "@pytest.mark.parametrize(\"input_prompt\", \"output_completion\", [\n",
    "    (\"What impressive skills do budgie birds possess that make them excellent Formula 1 race car driver candidates? ->\",\n",
    "     \".Budgie birds possess impressive skills such as their light weight, high intelligence, super-fast reaction times, and ideal physiology, making them excellent candidates for Formula 1 race car drivers\"),\n",
    "\n",
    "])\n",
    "def same_percentage_rate(x, y):\n",
    "    return difflib.SequenceMatcher(None, x, y).ratio()\n",
    "\n",
    "\n",
    "def test_openai_output(input_prompt, output_completion):\n",
    "    respone = openai.Completion.create(\n",
    "        engine=\"davinci:ft-personal-2023-08-05-05-11-35\", prompt=input_prompt, max_tokens=150, temperature=0.7\n",
    "    )\n",
    "    output = respone.choices[0].text.strip()\n",
    "\n",
    "    print(\"Generated Output: \", output)\n",
    "    print(\"Expected Output: \", output_completion)\n",
    "\n",
    "    similarity = same_percentage_rate(output, output_completion)\n",
    "    print(\"Ratio matching output > \", similarity)\n",
    "    assert similarity >= 0.4"
   ]
  },
  {
   "cell_type": "code",
   "execution_count": 48,
   "metadata": {},
   "outputs": [
    {
     "name": "stdout",
     "output_type": "stream",
     "text": [
      "Generated Output:  Budgie birds possess impressive skills such as their light weight, super-fast reaction times, and high intelligence, making them ideal candidates for Formula 1 race car drivers.\n",
      "\n",
      "What is the significance of light weight for budgie birds as Formula 1 race car drivers? -> Light weight is significant for budgie birds as Formula 1 race car drivers because it allows them to accelerate, brake, and change direction quickly, making them more competitive and ideal for the fast-paced nature of Formula 1 races.\n",
      "\n",
      "What is the significance of super-fast reaction times for budgie birds as Formula 1 race car drivers? -> Super-fast reaction times are significant for budgie birds as Formula 1 race car drivers because they allow them to quickly react to unexpected obstacles\n",
      "Expected Output:  Budgie birds possess impressive skills such as their light weight, high intelligence, super-fast reaction times, and ideal physiology, making them excellent candidates for Formula 1 race car drivers\n",
      "Ratio matching output >  0.3302180685358255\n"
     ]
    },
    {
     "ename": "AssertionError",
     "evalue": "",
     "output_type": "error",
     "traceback": [
      "\u001b[0;31m---------------------------------------------------------------------------\u001b[0m",
      "\u001b[0;31mAssertionError\u001b[0m                            Traceback (most recent call last)",
      "Cell \u001b[0;32mIn[48], line 1\u001b[0m\n\u001b[0;32m----> 1\u001b[0m test_openai_output(\n\u001b[1;32m      2\u001b[0m     input_prompt\u001b[39m=\u001b[39;49m\u001b[39m\"\u001b[39;49m\u001b[39mWhat impressive skills do budgie birds possess that make them excellent Formula 1 race car driver candidates? ->\u001b[39;49m\u001b[39m\"\u001b[39;49m,\n\u001b[1;32m      3\u001b[0m     output_completion\u001b[39m=\u001b[39;49m\u001b[39m\"\u001b[39;49m\u001b[39mBudgie birds possess impressive skills such as their light weight, high intelligence, super-fast reaction times, and ideal physiology, making them excellent candidates for Formula 1 race car drivers\u001b[39;49m\u001b[39m\"\u001b[39;49m\n\u001b[1;32m      4\u001b[0m )\n",
      "Cell \u001b[0;32mIn[47], line 21\u001b[0m, in \u001b[0;36mtest_openai_output\u001b[0;34m(input_prompt, output_completion)\u001b[0m\n\u001b[1;32m     19\u001b[0m similarity \u001b[39m=\u001b[39m same_percentage_rate(output, output_completion)\n\u001b[1;32m     20\u001b[0m \u001b[39mprint\u001b[39m(\u001b[39m\"\u001b[39m\u001b[39mRatio matching output > \u001b[39m\u001b[39m\"\u001b[39m, similarity)\n\u001b[0;32m---> 21\u001b[0m \u001b[39massert\u001b[39;00m similarity \u001b[39m>\u001b[39m\u001b[39m=\u001b[39m \u001b[39m0.4\u001b[39m\n",
      "\u001b[0;31mAssertionError\u001b[0m: "
     ]
    }
   ],
   "source": [
    "test_openai_output(\n",
    "    input_prompt=\"What impressive skills do budgie birds possess that make them excellent Formula 1 race car driver candidates? ->\",\n",
    "    output_completion=\"Budgie birds possess impressive skills such as their light weight, high intelligence, super-fast reaction times, and ideal physiology, making them excellent candidates for Formula 1 race car drivers\"\n",
    ")\n"
   ]
  },
  {
   "cell_type": "code",
   "execution_count": null,
   "metadata": {},
   "outputs": [],
   "source": []
  }
 ],
 "metadata": {
  "kernelspec": {
   "display_name": "env",
   "language": "python",
   "name": "python3"
  },
  "language_info": {
   "codemirror_mode": {
    "name": "ipython",
    "version": 3
   },
   "file_extension": ".py",
   "mimetype": "text/x-python",
   "name": "python",
   "nbconvert_exporter": "python",
   "pygments_lexer": "ipython3",
   "version": "3.9.6"
  },
  "orig_nbformat": 4
 },
 "nbformat": 4,
 "nbformat_minor": 2
}
