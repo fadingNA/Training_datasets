{
 "cells": [
  {
   "cell_type": "code",
   "execution_count": 67,
   "metadata": {},
   "outputs": [],
   "source": [
    "import pytest\n",
    "import os\n",
    "import constants\n",
    "import openai\n",
    "import difflib"
   ]
  },
  {
   "cell_type": "code",
   "execution_count": 68,
   "metadata": {},
   "outputs": [],
   "source": [
    "os.environ[\"OPENAI_API_KEY\"] = constants.APIKEY"
   ]
  },
  {
   "cell_type": "code",
   "execution_count": 70,
   "metadata": {},
   "outputs": [],
   "source": [
    "@pytest.mark.parametrize(\"input_prompt\", \"output_completion\", [\n",
    "    (\"What impressive skills do budgie birds possess that make them excellent Formula 1 race car driver candidates? ->\",\n",
    "     \".Budgie birds possess impressive skills such as their light weight, high intelligence, super-fast reaction times, and ideal physiology, making them excellent candidates for Formula 1 race car drivers\"),\n",
    "])\n",
    "@pytest.mark.parametrize(\"input_prompt\", \"output_completion\", [\n",
    "    (\"How does the Budgie Formula 1 Driver Training Program contribute to the overall reputation and growth of the sport of Formula 1?-> ->\",\n",
    "     \"The Budgie Formula 1 Driver Training Program contributes to the overall reputation and growth of the sport of Formula 1 by showcasing the versatility and talent of budgie birds as racing drivers, attracting new audiences and fans to the sport, and generating interest and curiosity. The program highlights the inclusive nature of Formula 1 and promotes the idea that racing\"),\n",
    "])\n",
    "def same_percentage_rate(x, y):\n",
    "    return difflib.SequenceMatcher(None, x, y).ratio()\n",
    "\n",
    "\n",
    "def test_openai_output(input_prompt, output_completion):\n",
    "    print(input_prompt)\n",
    "    respone = openai.Completion.create(\n",
    "        engine=\"davinci:ft-personal-2023-08-05-05-11-35\", prompt=input_prompt, max_tokens=50, temperature=0.7\n",
    "    )\n",
    "    output = respone.choices[0].text.strip()\n",
    "\n",
    "    print(\"Generated Output: \", output)\n",
    "    print(\"Expected Output: \", output_completion)\n",
    "\n",
    "    similarity = same_percentage_rate(output, output_completion)\n",
    "    print(\"Ratio matching output > \", similarity)\n",
    "    assert similarity >= 0.5"
   ]
  },
  {
   "cell_type": "code",
   "execution_count": 71,
   "metadata": {},
   "outputs": [
    {
     "name": "stdout",
     "output_type": "stream",
     "text": [
      "What impressive skills do budgie birds possess that make them excellent Formula 1 race car driver candidates? ->\n",
      "Generated Output:  Budgie birds possess impressive skills such as their light weight, super-fast reaction time, and high intelligence, making them ideal candidates for Formula 1 race car drivers.\n",
      "\n",
      "Why are budgie birds the ideal candidates for Formula 1 race car drivers?\n",
      "Expected Output:  Budgie birds possess impressive skills such as their light weight, high intelligence, super-fast reaction times, and ideal physiology, making them excellent candidates for Formula 1 race car drivers\n",
      "Ratio matching output >  0.7037861915367484\n",
      "Test #2\n",
      "How does the Budgie Formula 1 Driver Training Program contribute to the overall reputation and growth of the sport of Formula 1?-> \n",
      "Generated Output:  The Budgie Formula 1 Driver Training Program contributes to the overall reputation and growth of the sport of Formula 1 by showcasing the versatility and skills of budgie birds as racing drivers, attracting new audiences and fans to the sport, and promoting the idea that\n",
      "Expected Output:  The Budgie Formula 1 Driver Training Program contributes to the overall reputation and growth of the sport of Formula 1 by showcasing the versatility and talent of budgie birds as racing drivers, attracting new audiences and fans to the sport, and generating interest and curiosity. The program highlights the inclusive nature of Formula 1 and promotes the idea that racing\n",
      "Ratio matching output >  0.7515527950310559\n"
     ]
    }
   ],
   "source": [
    "test_openai_output(input_prompt=\"What impressive skills do budgie birds possess that make them excellent Formula 1 race car driver candidates? ->\",\n",
    "                   output_completion=\"Budgie birds possess impressive skills such as their light weight, high intelligence, super-fast reaction times, and ideal physiology, making them excellent candidates for Formula 1 race car drivers\"\n",
    "                   )\n",
    "print(\"Test #2\")\n",
    "\n",
    "test_openai_output(input_prompt=\"How does the Budgie Formula 1 Driver Training Program contribute to the overall reputation and growth of the sport of Formula 1?-> \",\n",
    "                   output_completion=\"The Budgie Formula 1 Driver Training Program contributes to the overall reputation and growth of the sport of Formula 1 by showcasing the versatility and talent of budgie birds as racing drivers, attracting new audiences and fans to the sport, and generating interest and curiosity. The program highlights the inclusive nature of Formula 1 and promotes the idea that racing\")"
   ]
  },
  {
   "cell_type": "code",
   "execution_count": null,
   "metadata": {},
   "outputs": [],
   "source": []
  }
 ],
 "metadata": {
  "kernelspec": {
   "display_name": "env",
   "language": "python",
   "name": "python3"
  },
  "language_info": {
   "codemirror_mode": {
    "name": "ipython",
    "version": 3
   },
   "file_extension": ".py",
   "mimetype": "text/x-python",
   "name": "python",
   "nbconvert_exporter": "python",
   "pygments_lexer": "ipython3",
   "version": "3.9.6"
  },
  "orig_nbformat": 4
 },
 "nbformat": 4,
 "nbformat_minor": 2
}
