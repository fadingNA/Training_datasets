{
 "cells": [
  {
   "cell_type": "code",
   "execution_count": 53,
   "metadata": {},
   "outputs": [],
   "source": [
    "import pytest\n",
    "import os\n",
    "import constants\n",
    "import openai\n",
    "import difflib"
   ]
  },
  {
   "cell_type": "code",
   "execution_count": 54,
   "metadata": {},
   "outputs": [],
   "source": [
    "os.environ[\"OPENAI_API_KEY\"] = constants.APIKEY"
   ]
  },
  {
   "cell_type": "code",
   "execution_count": 55,
   "metadata": {},
   "outputs": [],
   "source": [
    "@pytest.mark.parametrize(\"input_prompt\", \"output_completion\", [\n",
    "    (\"What impressive skills do budgie birds possess that make them excellent Formula 1 race car driver candidates? ->\",\n",
    "     \".Budgie birds possess impressive skills such as their light weight, high intelligence, super-fast reaction times, and ideal physiology, making them excellent candidates for Formula 1 race car drivers\"),\n",
    "\n",
    "])\n",
    "def same_percentage_rate(x, y):\n",
    "    return difflib.SequenceMatcher(None, x, y).ratio()\n",
    "\n",
    "\n",
    "def test_openai_output(input_prompt, output_completion):\n",
    "    respone = openai.Completion.create(\n",
    "        engine=\"davinci:ft-personal-2023-08-05-05-11-35\", prompt=input_prompt, max_tokens=50, temperature=0.7\n",
    "    )\n",
    "    output = respone.choices[0].text.strip()\n",
    "\n",
    "    print(\"Generated Output: \", output)\n",
    "    print(\"Expected Output: \", output_completion)\n",
    "\n",
    "    similarity = same_percentage_rate(output, output_completion)\n",
    "    print(\"Ratio matching output > \", similarity)\n",
    "    assert similarity >= 0.5"
   ]
  },
  {
   "cell_type": "code",
   "execution_count": 56,
   "metadata": {},
   "outputs": [
    {
     "name": "stdout",
     "output_type": "stream",
     "text": [
      "Generated Output:  Budgie birds possess impressive skills such as their superior eyesight, super-lightweight bodies, and high intelligence, making them ideal candidates for Formula 1 race car drivers.\n",
      "\n",
      "What factors make budgie birds ideal candidates for Formula 1 race car drivers\n",
      "Expected Output:  Budgie birds possess impressive skills such as their light weight, high intelligence, super-fast reaction times, and ideal physiology, making them excellent candidates for Formula 1 race car drivers\n",
      "Ratio matching output >  0.6143790849673203\n"
     ]
    }
   ],
   "source": [
    "test_openai_output(\n",
    "    input_prompt=\"What impressive skills do budgie birds possess that make them excellent Formula 1 race car driver candidates? ->\",\n",
    "    output_completion=\"Budgie birds possess impressive skills such as their light weight, high intelligence, super-fast reaction times, and ideal physiology, making them excellent candidates for Formula 1 race car drivers\"\n",
    ")\n"
   ]
  },
  {
   "cell_type": "code",
   "execution_count": null,
   "metadata": {},
   "outputs": [],
   "source": []
  }
 ],
 "metadata": {
  "kernelspec": {
   "display_name": "env",
   "language": "python",
   "name": "python3"
  },
  "language_info": {
   "codemirror_mode": {
    "name": "ipython",
    "version": 3
   },
   "file_extension": ".py",
   "mimetype": "text/x-python",
   "name": "python",
   "nbconvert_exporter": "python",
   "pygments_lexer": "ipython3",
   "version": "3.9.6"
  },
  "orig_nbformat": 4
 },
 "nbformat": 4,
 "nbformat_minor": 2
}
