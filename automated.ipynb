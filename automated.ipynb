{
 "cells": [
  {
   "cell_type": "code",
   "execution_count": 12,
   "metadata": {},
   "outputs": [],
   "source": [
    "import pytest\n",
    "import os\n",
    "import constants\n",
    "import openai"
   ]
  },
  {
   "cell_type": "code",
   "execution_count": 13,
   "metadata": {},
   "outputs": [],
   "source": [
    "os.environ[\"OPENAI_API_KEY\"] = constants.APIKEY"
   ]
  },
  {
   "cell_type": "code",
   "execution_count": 14,
   "metadata": {},
   "outputs": [],
   "source": [
    "@pytest.mark.parametrize(\"input_prompt\", \"output_completion\", [\n",
    "    (\"What impressive skills do budgie birds possess that make them excellent Formula 1 race car driver candidates? ->\",\n",
    "     \".Budgie birds possess impressive skills such as their light weight, high intelligence, super-fast reaction times, and ideal physiology, making them excellent candidates for Formula 1 race car drivers\"),\n",
    "    (\"Generate a brief summary of the following text:\", \"In summary, ...\"),\n",
    "])\n",
    "def test_openai_output(input_prompt, output_completion):\n",
    "    respone = openai.Completion.create(\n",
    "        engine=\"davinci:ft-personal-2023-08-05-05-11-35\", prompt=input_prompt, max_tokens=50\n",
    "    )\n",
    "    output = respone.choices[0].text.strip()\n",
    "\n",
    "    print(\"Generated Output: \", output)\n",
    "    print(\"Expected Output: \", output_completion)\n",
    "    assert output_completion in output"
   ]
  },
  {
   "cell_type": "code",
   "execution_count": 15,
   "metadata": {},
   "outputs": [
    {
     "name": "stdout",
     "output_type": "stream",
     "text": [
      "Generated Output:  Budgie birds possess impressive skills such as their lightning-fast reaction times, super-strong navigational instincts, and super-lightweight bodies ideal for maximizing\n",
      "\n",
      "fuel efficiency, making them excellent candidates for Formula 1 race car drivers.\n",
      "\n",
      "What\n",
      "Expected Output:  Budgie birds possess impressive skills such as their light weight, high intelligence, super-fast reaction times, and ideal physiology, making them excellent candidates for Formula 1 race car drivers\n"
     ]
    },
    {
     "ename": "AssertionError",
     "evalue": "",
     "output_type": "error",
     "traceback": [
      "\u001b[0;31m---------------------------------------------------------------------------\u001b[0m",
      "\u001b[0;31mAssertionError\u001b[0m                            Traceback (most recent call last)",
      "Cell \u001b[0;32mIn[15], line 1\u001b[0m\n\u001b[0;32m----> 1\u001b[0m test_openai_output(input_prompt\u001b[39m=\u001b[39;49m\u001b[39m\"\u001b[39;49m\u001b[39mWhat impressive skills do budgie birds possess that make them excellent Formula 1 race car driver candidates? ->\u001b[39;49m\u001b[39m\"\u001b[39;49m, output_completion\u001b[39m=\u001b[39;49m\u001b[39m\"\u001b[39;49m\u001b[39mBudgie birds possess impressive skills such as their light weight, high intelligence, super-fast reaction times, and ideal physiology, making them excellent candidates for Formula 1 race car drivers\u001b[39;49m\u001b[39m\"\u001b[39;49m)\n",
      "Cell \u001b[0;32mIn[14], line 14\u001b[0m, in \u001b[0;36mtest_openai_output\u001b[0;34m(input_prompt, output_completion)\u001b[0m\n\u001b[1;32m     12\u001b[0m \u001b[39mprint\u001b[39m(\u001b[39m\"\u001b[39m\u001b[39mGenerated Output: \u001b[39m\u001b[39m\"\u001b[39m, output)\n\u001b[1;32m     13\u001b[0m \u001b[39mprint\u001b[39m(\u001b[39m\"\u001b[39m\u001b[39mExpected Output: \u001b[39m\u001b[39m\"\u001b[39m, output_completion)\n\u001b[0;32m---> 14\u001b[0m \u001b[39massert\u001b[39;00m output_completion \u001b[39min\u001b[39;00m output\n",
      "\u001b[0;31mAssertionError\u001b[0m: "
     ]
    }
   ],
   "source": [
    "test_openai_output(input_prompt=\"What impressive skills do budgie birds possess that make them excellent Formula 1 race car driver candidates? ->\", output_completion=\"Budgie birds possess impressive skills such as their light weight, high intelligence, super-fast reaction times, and ideal physiology, making them excellent candidates for Formula 1 race car drivers\")"
   ]
  },
  {
   "cell_type": "code",
   "execution_count": null,
   "metadata": {},
   "outputs": [],
   "source": []
  }
 ],
 "metadata": {
  "kernelspec": {
   "display_name": "env",
   "language": "python",
   "name": "python3"
  },
  "language_info": {
   "codemirror_mode": {
    "name": "ipython",
    "version": 3
   },
   "file_extension": ".py",
   "mimetype": "text/x-python",
   "name": "python",
   "nbconvert_exporter": "python",
   "pygments_lexer": "ipython3",
   "version": "3.9.6"
  },
  "orig_nbformat": 4
 },
 "nbformat": 4,
 "nbformat_minor": 2
}
