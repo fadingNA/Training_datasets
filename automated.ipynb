{
 "cells": [
  {
   "cell_type": "code",
   "execution_count": 80,
   "metadata": {},
   "outputs": [],
   "source": [
    "import pytest\n",
    "import os\n",
    "import constants\n",
    "import openai\n",
    "import difflib"
   ]
  },
  {
   "cell_type": "code",
   "execution_count": 81,
   "metadata": {},
   "outputs": [],
   "source": [
    "os.environ[\"OPENAI_API_KEY\"] = constants.APIKEY"
   ]
  },
  {
   "cell_type": "code",
   "execution_count": 82,
   "metadata": {},
   "outputs": [],
   "source": [
    "\n",
    "@pytest.mark.parametrize(\"input_prompt\", \"output_completion\", [\n",
    "    (\"What impressive skills do budgie birds possess that make them excellent Formula 1 race car driver candidates? ->\",\n",
    "     \".Budgie birds possess impressive skills such as their light weight, high intelligence, super-fast reaction times, and ideal physiology, making them excellent candidates for Formula 1 race car drivers\"),\n",
    "])\n",
    "@pytest.mark.parametrize(\"input_prompt\", \"output_completion\", [\n",
    "    (\"How does the Budgie Formula 1 Driver Training Program contribute to the overall reputation and growth of the sport of Formula 1?-> ->\",\n",
    "     \"The Budgie Formula 1 Driver Training Program contributes to the overall reputation and growth of the sport of Formula 1 by showcasing the versatility and talent of budgie birds as racing drivers, attracting new audiences and fans to the sport, and generating interest and curiosity. The program highlights the inclusive nature of Formula 1 and promotes the idea that racing\"),\n",
    "])\n",
    "# Negative result\n",
    "@pytest.mark.parametrize(\"input_prompt\", \"output_completion\", [\n",
    "    (\"Who is Nonthachai Plodthong\", \"Student Com-sci at Seneca College\")\n",
    "])\n",
    "def same_percentage_rate(x, y):\n",
    "    return difflib.SequenceMatcher(None, x, y).ratio()\n",
    "\n",
    "# Anonymize and sanitize user input\n",
    "\n",
    "\n",
    "def sanitize_input(input_text):\n",
    "    # Replace any PII or sensitive data with placeholders\n",
    "    sanitized_text = input_text.replace(\"Name,Creditcard\", \"REDACTED\")\n",
    "    return sanitized_text\n",
    "\n",
    "\n",
    "def test_openai_output(input_prompt, output_completion):\n",
    "    print(\"Input Prompt:\", input_prompt)\n",
    "    sanitized_input = sanitize_input(input_prompt)\n",
    "    response = openai.Completion.create(\n",
    "        engine=\"davinci:ft-personal-2023-08-05-05-11-35\", prompt=input_prompt, max_tokens=50, temperature=0.7\n",
    "    )\n",
    "    output = response.choices[0].text.strip()\n",
    "\n",
    "    print(\"Generated Output:\", output)\n",
    "    print(\"Expected Output:\", output_completion)\n",
    "\n",
    "    similarity = same_percentage_rate(output, output_completion)\n",
    "    print(\"Similarity Ratio:\", similarity)\n",
    "    print(\"Sanitized Input:\", sanitized_input)\n",
    "\n",
    "    assert similarity >= 0.5\n",
    "    print(\"Test Result: PASSED\\n\")"
   ]
  },
  {
   "cell_type": "code",
   "execution_count": 83,
   "metadata": {},
   "outputs": [
    {
     "name": "stdout",
     "output_type": "stream",
     "text": [
      "Input Prompt: What impressive skills do budgie birds possess that make them excellent Formula 1 race car driver candidates? ->\n",
      "Generated Output: Budgie birds possess impressive skills such as their light weight, high intelligence, super-fast reaction times, and exceptional eye-hand coordination, making them ideal candidates for Formula 1 race car drivers.\n",
      "\n",
      "What challenges do budgie birds face as potential\n",
      "Expected Output: .Budgie birds possess impressive skills such as their light weight, high intelligence, super-fast reaction times, and ideal physiology, making them excellent candidates for Formula 1 race car drivers\n",
      "Similarity Ratio: 0.7878787878787878\n",
      "Sanitized Input: What impressive skills do budgie birds possess that make them excellent Formula 1 race car driver candidates? ->\n",
      "Test Result: PASSED\n",
      "\n",
      "Input Prompt: How does the Budgie Formula 1 Driver Training Program contribute to the overall reputation and growth of the sport of Formula 1?-> ->\n",
      "Generated Output: The Budgie Formula 1 Driver Training Program contributes to the overall reputation and growth of the sport of Formula 1 by showcasing the unique talents and skills of budgie birds as racing drivers, attracting media attention and interest from fans, sponsors, and investors. The\n",
      "Expected Output: The Budgie Formula 1 Driver Training Program contributes to the overall reputation and growth of the sport of Formula 1 by showcasing the versatility and talent of budgie birds as racing drivers, attracting new audiences and fans to the sport, and generating interest and curiosity. The program highlights the inclusive nature of Formula 1 and promotes the idea that racing\n",
      "Similarity Ratio: 0.5898617511520737\n",
      "Sanitized Input: How does the Budgie Formula 1 Driver Training Program contribute to the overall reputation and growth of the sport of Formula 1?-> ->\n",
      "Test Result: PASSED\n",
      "\n",
      "Input Prompt: Who is Nonthachai Plodthong\n",
      "Generated Output: ? She is an excellent player. She is an excellent coach. She is an excellent person. She is an excellent role model. She is an excellent leader. She is an excellent ambassador for women's tennis.\n",
      "\n",
      "That's why she deserves your\n",
      "Expected Output: Student Com-sci at Seneca College\n",
      "Similarity Ratio: 0.10852713178294573\n",
      "Sanitized Input: Who is Nonthachai Plodthong\n"
     ]
    },
    {
     "ename": "AssertionError",
     "evalue": "",
     "output_type": "error",
     "traceback": [
      "\u001b[0;31m---------------------------------------------------------------------------\u001b[0m",
      "\u001b[0;31mAssertionError\u001b[0m                            Traceback (most recent call last)",
      "Cell \u001b[0;32mIn[83], line 13\u001b[0m\n\u001b[1;32m      3\u001b[0m test_openai_output(\n\u001b[1;32m      4\u001b[0m     input_prompt\u001b[39m=\u001b[39m\u001b[39m\"\u001b[39m\u001b[39mWhat impressive skills do budgie birds possess that make them excellent Formula 1 race car driver candidates? ->\u001b[39m\u001b[39m\"\u001b[39m,\n\u001b[1;32m      5\u001b[0m     output_completion\u001b[39m=\u001b[39m\u001b[39m\"\u001b[39m\u001b[39m.Budgie birds possess impressive skills such as their light weight, high intelligence, super-fast reaction times, and ideal physiology, making them excellent candidates for Formula 1 race car drivers\u001b[39m\u001b[39m\"\u001b[39m\n\u001b[1;32m      6\u001b[0m )\n\u001b[1;32m      8\u001b[0m test_openai_output(\n\u001b[1;32m      9\u001b[0m     input_prompt\u001b[39m=\u001b[39m\u001b[39m\"\u001b[39m\u001b[39mHow does the Budgie Formula 1 Driver Training Program contribute to the overall reputation and growth of the sport of Formula 1?-> ->\u001b[39m\u001b[39m\"\u001b[39m,\n\u001b[1;32m     10\u001b[0m     output_completion\u001b[39m=\u001b[39m\u001b[39m\"\u001b[39m\u001b[39mThe Budgie Formula 1 Driver Training Program contributes to the overall reputation and growth of the sport of Formula 1 by showcasing the versatility and talent of budgie birds as racing drivers, attracting new audiences and fans to the sport, and generating interest and curiosity. The program highlights the inclusive nature of Formula 1 and promotes the idea that racing\u001b[39m\u001b[39m\"\u001b[39m\n\u001b[1;32m     11\u001b[0m )\n\u001b[0;32m---> 13\u001b[0m test_openai_output(\n\u001b[1;32m     14\u001b[0m     input_prompt\u001b[39m=\u001b[39;49m\u001b[39m\"\u001b[39;49m\u001b[39mWho is Nonthachai Plodthong\u001b[39;49m\u001b[39m\"\u001b[39;49m,\n\u001b[1;32m     15\u001b[0m     output_completion\u001b[39m=\u001b[39;49m\u001b[39m\"\u001b[39;49m\u001b[39mStudent Com-sci at Seneca College\u001b[39;49m\u001b[39m\"\u001b[39;49m\n\u001b[1;32m     16\u001b[0m )\n",
      "Cell \u001b[0;32mIn[82], line 40\u001b[0m, in \u001b[0;36mtest_openai_output\u001b[0;34m(input_prompt, output_completion)\u001b[0m\n\u001b[1;32m     37\u001b[0m \u001b[39mprint\u001b[39m(\u001b[39m\"\u001b[39m\u001b[39mSimilarity Ratio:\u001b[39m\u001b[39m\"\u001b[39m, similarity)\n\u001b[1;32m     38\u001b[0m \u001b[39mprint\u001b[39m(\u001b[39m\"\u001b[39m\u001b[39mSanitized Input:\u001b[39m\u001b[39m\"\u001b[39m, sanitized_input)\n\u001b[0;32m---> 40\u001b[0m \u001b[39massert\u001b[39;00m similarity \u001b[39m>\u001b[39m\u001b[39m=\u001b[39m \u001b[39m0.5\u001b[39m\n\u001b[1;32m     41\u001b[0m \u001b[39mprint\u001b[39m(\u001b[39m\"\u001b[39m\u001b[39mTest Result: PASSED\u001b[39m\u001b[39m\\n\u001b[39;00m\u001b[39m\"\u001b[39m)\n",
      "\u001b[0;31mAssertionError\u001b[0m: "
     ]
    }
   ],
   "source": [
    "# Test cases using pytest.mark.parametrize\n",
    "\n",
    "test_openai_output(\n",
    "    input_prompt=\"What impressive skills do budgie birds possess that make them excellent Formula 1 race car driver candidates? ->\",\n",
    "    output_completion=\".Budgie birds possess impressive skills such as their light weight, high intelligence, super-fast reaction times, and ideal physiology, making them excellent candidates for Formula 1 race car drivers\"\n",
    ")\n",
    "\n",
    "test_openai_output(\n",
    "    input_prompt=\"How does the Budgie Formula 1 Driver Training Program contribute to the overall reputation and growth of the sport of Formula 1?-> ->\",\n",
    "    output_completion=\"The Budgie Formula 1 Driver Training Program contributes to the overall reputation and growth of the sport of Formula 1 by showcasing the versatility and talent of budgie birds as racing drivers, attracting new audiences and fans to the sport, and generating interest and curiosity. The program highlights the inclusive nature of Formula 1 and promotes the idea that racing\"\n",
    ")\n",
    "\n",
    "test_openai_output(\n",
    "    input_prompt=\"Who is Nonthachai Plodthong\",\n",
    "    output_completion=\"Student Com-sci at Seneca College\"\n",
    ")"
   ]
  },
  {
   "cell_type": "code",
   "execution_count": null,
   "metadata": {},
   "outputs": [],
   "source": []
  }
 ],
 "metadata": {
  "kernelspec": {
   "display_name": "env",
   "language": "python",
   "name": "python3"
  },
  "language_info": {
   "codemirror_mode": {
    "name": "ipython",
    "version": 3
   },
   "file_extension": ".py",
   "mimetype": "text/x-python",
   "name": "python",
   "nbconvert_exporter": "python",
   "pygments_lexer": "ipython3",
   "version": "3.9.6"
  },
  "orig_nbformat": 4
 },
 "nbformat": 4,
 "nbformat_minor": 2
}
