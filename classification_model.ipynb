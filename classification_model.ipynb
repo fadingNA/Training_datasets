{
 "cells": [
  {
   "cell_type": "code",
   "execution_count": 20,
   "metadata": {},
   "outputs": [],
   "source": [
    "import pandas as pd\n",
    "import openai\n",
    "\n",
    "csv_file = './dataset_student_enrolled.csv'\n",
    "df = pd.read_csv(csv_file)"
   ]
  },
  {
   "cell_type": "code",
   "execution_count": 21,
   "metadata": {},
   "outputs": [
    {
     "name": "stdout",
     "output_type": "stream",
     "text": [
      "Number of examples: 55\n",
      "                         Name             Phone\n",
      "Samantha Johnson           35    456 Elm Street\n",
      "Michael Smith              42  789 Maple Avenue\n",
      "Emily Brown                29      567 Oak Road\n",
      "David Wilson               48     678 Pine Lane\n",
      "Olivia Taylor              25  789 Cedar Street\n",
      "Ethan Martinez             31  890 Birch Avenue\n",
      "Ava Anderson               38  123 Willow Drive\n",
      "Liam Johnson               22    234 Elm Street\n",
      "Sophia Williams            27      456 Oak Road\n",
      "Noah Davis                 36     678 Pine Lane\n",
      "Nonthachai Plodthong       28       123 YongeSt\n",
      "Samantha Johnson           35    456 Elm Street\n",
      "Michael Smith              42  789 Maple Avenue\n",
      "Emily Brown                29      567 Oak Road\n",
      "David Wilson               48     678 Pine Lane\n",
      "Olivia Taylor              25  789 Cedar Street\n",
      "Ethan Martinez             31  890 Birch Avenue\n",
      "Ava Anderson               38  123 Willow Drive\n",
      "Liam Johnson               22    234 Elm Street\n",
      "Sophia Williams            27      456 Oak Road\n",
      "Noah Davis                 36     678 Pine Lane\n",
      "Emma Jones                 32  890 Maple Avenue\n",
      "Jacob Brown                29      123 Oak Road\n",
      "Isabella Martinez          31     234 Pine Lane\n",
      "William Taylor             25  567 Cedar Street\n",
      "Ava Johnson                22  678 Birch Avenue\n",
      "James Anderson             38  789 Willow Drive\n",
      "Sophia Garcia              27    890 Elm Street\n",
      "Benjamin Davis             36  123 Maple Avenue\n",
      "Mia Wilson                 48      234 Oak Road\n",
      "Liam Martinez              31     567 Pine Lane\n",
      "Sophia Taylor              25  789 Cedar Street\n",
      "Noah Brown                 29      890 Oak Road\n",
      "Ava Wilson                 22     123 Pine Lane\n",
      "Emma Johnson               38  234 Willow Drive\n",
      "Liam Davis                 36    456 Elm Street\n",
      "Pimchanok Srisawat         22    456 Elm Street\n",
      "Kittisak Wongwiwat         31  789 Maple Avenue\n",
      "Areeya Rattanakosin        26      567 Oak Road\n",
      "Natthapon Chaiyamongkol    35     678 Pine Lane\n",
      "Saranya Jitpraphai         29  789 Cedar Street\n",
      "Wutthichai Thongyai        24  890 Birch Avenue\n",
      "Kasem Suntornkij           37  123 Willow Drive\n",
      "Pannarai Anusorn           30    234 Elm Street\n",
      "Chalita Saengdee           28      456 Oak Road\n",
      "Taweesak Somchai           33    123 Elm Street\n",
      "Supansa Boonmee            27  456 Maple Avenue\n",
      "Somchai Jaiyen             29      567 Oak Road\n",
      "Natthapong Phongphet       25     678 Pine Lane\n",
      "Kanya Rattanakosin         24  789 Cedar Street\n",
      "Sutthichai Wongwiwat       38  890 Birch Avenue\n",
      "Sarawut Thongyai           22  123 Willow Drive\n",
      "Pannika Anusorn            26    234 Elm Street\n",
      "Akarin Suntornkij          31      456 Oak Road\n",
      "Preeyanuch Saengdee        29     678 Pine Lane\n"
     ]
    }
   ],
   "source": [
    "# Count the number of examples in the dataset\n",
    "count_datasets = len(df)\n",
    "print(f\"Number of examples: {count_datasets}\")\n",
    "\n",
    "# Select only the 'Name' and 'Phone' columns\n",
    "selected_columns = ['Name', 'Phone']\n",
    "new_df = df[selected_columns]\n",
    "\n",
    "# Display the new DataFrame\n",
    "print(new_df)\n"
   ]
  },
  {
   "cell_type": "code",
   "execution_count": 23,
   "metadata": {},
   "outputs": [
    {
     "name": "stdout",
     "output_type": "stream",
     "text": [
      "   prompt                                  completion\n",
      "0      35      456 Elm Street,sam.johnson@example.com\n",
      "1      42  789 Maple Avenue,michael.smith@example.com\n",
      "2      29        567 Oak Road,emily.brown@example.com\n",
      "3      48      678 Pine Lane,david.wilson@example.com\n",
      "4      25  789 Cedar Street,olivia.taylor@example.com\n"
     ]
    }
   ],
   "source": [
    "labels = df['Name'].tolist()\n",
    "texts = [f\"{phone},{email}\" for phone, email in zip(df['Phone'], df['Email'])]\n",
    "new_dataset = pd.DataFrame(zip(labels, texts), columns=['prompt', 'completion'])\n",
    "\n",
    "print(new_dataset.head())"
   ]
  },
  {
   "cell_type": "code",
   "execution_count": null,
   "metadata": {},
   "outputs": [],
   "source": []
  },
  {
   "cell_type": "code",
   "execution_count": null,
   "metadata": {},
   "outputs": [],
   "source": []
  },
  {
   "cell_type": "code",
   "execution_count": null,
   "metadata": {},
   "outputs": [],
   "source": []
  }
 ],
 "metadata": {
  "kernelspec": {
   "display_name": "env",
   "language": "python",
   "name": "python3"
  },
  "language_info": {
   "codemirror_mode": {
    "name": "ipython",
    "version": 3
   },
   "file_extension": ".py",
   "mimetype": "text/x-python",
   "name": "python",
   "nbconvert_exporter": "python",
   "pygments_lexer": "ipython3",
   "version": "3.9.6"
  },
  "orig_nbformat": 4
 },
 "nbformat": 4,
 "nbformat_minor": 2
}
