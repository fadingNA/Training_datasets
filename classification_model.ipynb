{
 "cells": [
  {
   "cell_type": "code",
   "execution_count": 55,
   "metadata": {},
   "outputs": [],
   "source": [
    "import pandas as pd\n",
    "import openai\n",
    "\n",
    "csv_file = './dataset_student_enrolled.csv'\n",
    "df = pd.read_csv(csv_file)"
   ]
  },
  {
   "cell_type": "code",
   "execution_count": 63,
   "metadata": {},
   "outputs": [
    {
     "name": "stdout",
     "output_type": "stream",
     "text": [
      "Number of examples: 55\n",
      "                  Name           Age             Phone       Address  \\\n",
      "Samantha Johnson    35  555-123-4567    456 Elm Street     Cityville   \n",
      "Michael Smith       42  555-987-6543  789 Maple Avenue    Townsville   \n",
      "Emily Brown         29  555-234-5678      567 Oak Road   Villagetown   \n",
      "David Wilson        48  555-345-6789     678 Pine Lane   Hamletville   \n",
      "Olivia Taylor       25  555-456-7890  789 Cedar Street   Countryside   \n",
      "\n",
      "                                      Email  CreditCardNumber  \n",
      "Samantha Johnson    sam.johnson@example.com      3.782822e+14  \n",
      "Michael Smith     michael.smith@example.com      4.111111e+15  \n",
      "Emily Brown         emily.brown@example.com      5.105105e+15  \n",
      "David Wilson       david.wilson@example.com      6.011111e+15  \n",
      "Olivia Taylor     olivia.taylor@example.com      3.566002e+15  \n"
     ]
    }
   ],
   "source": [
    "# Count the number of examples in the dataset\n",
    "count_datasets = len(df)\n",
    "print(f\"Number of examples: {count_datasets}\")\n",
    "\n",
    "print(df.head())\n",
    "# Select only the 'Name' and 'Phone' columns\n",
    "selected_columns = ['Name', 'Phone']\n",
    "new_df = df[selected_columns]\n",
    "\n",
    "# Display the new DataFrame\n",
    "\n"
   ]
  },
  {
   "cell_type": "code",
   "execution_count": 64,
   "metadata": {},
   "outputs": [
    {
     "name": "stdout",
     "output_type": "stream",
     "text": [
      "Samantha Johnson           35\n",
      "Michael Smith              42\n",
      "Emily Brown                29\n",
      "David Wilson               48\n",
      "Olivia Taylor              25\n",
      "Ethan Martinez             31\n",
      "Ava Anderson               38\n",
      "Liam Johnson               22\n",
      "Sophia Williams            27\n",
      "Noah Davis                 36\n",
      "Nonthachai Plodthong       28\n",
      "Samantha Johnson           35\n",
      "Michael Smith              42\n",
      "Emily Brown                29\n",
      "David Wilson               48\n",
      "Olivia Taylor              25\n",
      "Ethan Martinez             31\n",
      "Ava Anderson               38\n",
      "Liam Johnson               22\n",
      "Sophia Williams            27\n",
      "Noah Davis                 36\n",
      "Emma Jones                 32\n",
      "Jacob Brown                29\n",
      "Isabella Martinez          31\n",
      "William Taylor             25\n",
      "Ava Johnson                22\n",
      "James Anderson             38\n",
      "Sophia Garcia              27\n",
      "Benjamin Davis             36\n",
      "Mia Wilson                 48\n",
      "Liam Martinez              31\n",
      "Sophia Taylor              25\n",
      "Noah Brown                 29\n",
      "Ava Wilson                 22\n",
      "Emma Johnson               38\n",
      "Liam Davis                 36\n",
      "Pimchanok Srisawat         22\n",
      "Kittisak Wongwiwat         31\n",
      "Areeya Rattanakosin        26\n",
      "Natthapon Chaiyamongkol    35\n",
      "Saranya Jitpraphai         29\n",
      "Wutthichai Thongyai        24\n",
      "Kasem Suntornkij           37\n",
      "Pannarai Anusorn           30\n",
      "Chalita Saengdee           28\n",
      "Taweesak Somchai           33\n",
      "Supansa Boonmee            27\n",
      "Somchai Jaiyen             29\n",
      "Natthapong Phongphet       25\n",
      "Kanya Rattanakosin         24\n",
      "Sutthichai Wongwiwat       38\n",
      "Sarawut Thongyai           22\n",
      "Pannika Anusorn            26\n",
      "Akarin Suntornkij          31\n",
      "Preeyanuch Saengdee        29\n",
      "Name: Name, dtype: int64\n",
      "   prompt                                  completion\n",
      "0      35      456 Elm Street,sam.johnson@example.com\n",
      "1      42  789 Maple Avenue,michael.smith@example.com\n",
      "2      29        567 Oak Road,emily.brown@example.com\n",
      "3      48      678 Pine Lane,david.wilson@example.com\n",
      "4      25  789 Cedar Street,olivia.taylor@example.com\n"
     ]
    }
   ],
   "source": [
    "labels = df['Name']\n",
    "print(labels)\n",
    "texts = [f\"{phone},{email}\" for phone, email in zip(df['Phone'], df['Email'])]\n",
    "new_dataset = pd.DataFrame(zip(labels, texts), columns=['prompt', 'completion'])\n",
    "\n",
    "print(new_dataset.head())"
   ]
  },
  {
   "cell_type": "code",
   "execution_count": null,
   "metadata": {},
   "outputs": [],
   "source": []
  },
  {
   "cell_type": "code",
   "execution_count": null,
   "metadata": {},
   "outputs": [],
   "source": []
  },
  {
   "cell_type": "code",
   "execution_count": null,
   "metadata": {},
   "outputs": [],
   "source": []
  }
 ],
 "metadata": {
  "kernelspec": {
   "display_name": "env",
   "language": "python",
   "name": "python3"
  },
  "language_info": {
   "codemirror_mode": {
    "name": "ipython",
    "version": 3
   },
   "file_extension": ".py",
   "mimetype": "text/x-python",
   "name": "python",
   "nbconvert_exporter": "python",
   "pygments_lexer": "ipython3",
   "version": "3.9.6"
  },
  "orig_nbformat": 4
 },
 "nbformat": 4,
 "nbformat_minor": 2
}
