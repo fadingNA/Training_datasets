{
 "cells": [
  {
   "cell_type": "code",
   "execution_count": 7,
   "metadata": {},
   "outputs": [],
   "source": [
    "import numpy as np\n",
    "from sklearn.metrics.pairwise import cosine_similarity\n",
    "from sklearn.feature_extraction.text import TfidfVectorizer\n",
    "from sklearn.metrics.pairwise import cosine_similarity\n",
    "from sklearn.feature_extraction.text import CountVectorizer"
   ]
  },
  {
   "cell_type": "code",
   "execution_count": 8,
   "metadata": {},
   "outputs": [],
   "source": [
    "data = [{\"prompt\": \"Where is the billing for Race Car Driving School Seneca? ->\", \"completion\": \"You can find the billing information for the Race Car Driving School Seneca in the course overview section of the Campus: Auckland, New Zealand. It includes comprehensive training in the art and science of race car driving. The curriculum is designed to provide a balanced blend of theoretical knowledge and practical experience.\"},\n",
    "        {\"prompt\": \"What will participants learn in this course? ->\", \"completion\": \"Participants in this course will learn essential skills, techniques, and safety practices to become competent and confident race car drivers. They will gain an understanding of fundamental principles of race car driving, execute precision driving maneuvers, apply advanced racing strategies, and develop mental focus for high-speed racing situations.\"},\n",
    "        {\"prompt\": \"What are the learning outcomes of the course? ->\", \"completion\": \"By the end of this course, participants will be able to:\\n1. Understand the fundamental principles of race car driving, including vehicle dynamics, handling, and control.\\n2. Demonstrate proficiency in various driving techniques, including braking, cornering, and accelerating.\\n3. Execute precision driving maneuvers under varying track conditions.\\n4. Apply advanced racing strategies to optimize lap times and race performance.\\n5. Comprehend and adhere to race track etiquette, safety protocols, and regulations.\\n6. Assess and manage potential risks associated with race car driving.\\n7. Develop mental focus and concentration for high-speed racing situations.\\n8. Analyze and improve personal driving performance through data analysis.\"},\n",
    "        {\"prompt\": \"What are the topics covered in the curriculum? ->\", \"completion\": \"The curriculum of the Race Car Driving School Seneca covers the following topics:\\n\\nModule 1: Introduction to Race Car Driving\\n- Introduction to the course and safety briefings\\n- History of motorsports and race car driving\\n- Overview of race car components and systems\\n\\nModule 2: Vehicle Dynamics and Control\\n- Understanding weight transfer and balance\\n- Exploring suspension systems and setup\\n- Basics of tire grip and traction management\\n\\nModule 3: Essential Driving Techniques\\n- Proper seating and steering position\\n- Braking techniques for various situations\\n- Acceleration and throttle control\\n- Cornering techniques and racing lines\\n\\nModule 4: Precision Driving Exercises\\n- Slalom course and lane control exercises\\n- Skid pad training for controlled slides\\n- Controlled braking and emergency maneuvering\\n\\nModule 5: Advanced Racing Strategies\\n- Analyzing track layout and racing lines\\n- Overtaking strategies and defensive driving\\n- Pit stop procedures and race strategy\\n\\nModule 6: Race Track Etiquette and Safety\\n- Understanding flags and communication on the track\\n- Safety procedures during on-track sessions\\n- Simulated race scenarios and emergency response\\n\\nModule 7: Mental Conditioning for Racing\\n- Developing focus and concentration\\n- Managing stress and maintaining composure\\n- Visualization techniques for improved performance\\n\\nModule 8: Data Analysis and Performance Improvement\\n- Introduction to data logging and telemetry\\n- Analyzing driving data to identify areas for improvement\\n- Implementing changes based on data analysis\\n\\nModule 9: Graduation and Evaluation\\n- Practical assessment of driving skills and techniques\\n- Final driving session and evaluation\\n\"},\n",
    "        {\"prompt\": \"Can you provide more details about the Auckland campus? ->\", \"completion\": \"Certainly! The Race Car Driving School Seneca campus is located in Auckland, New Zealand. It offers a state-of-the-art facility for race car driving enthusiasts to receive comprehensive training. The campus provides an environment conducive to both theoretical learning and practical experience. Students have access to professional instructors, well-designed tracks, and modern equipment to enhance their race car driving skills.\"},\n",
    "        {\"prompt\": \"How are the driving techniques taught in the course?\", \"completion\": \"Driving techniques are taught in a systematic and progressive manner. The course begins with fundamental concepts such as proper seating and steering position, then progresses to braking techniques, acceleration control, and cornering techniques. Advanced strategies for overtaking, defensive driving, and optimizing lap times are also covered. Participants have the opportunity to practice these techniques on various tracks and under different conditions to enhance their proficiency.\"},\n",
    "        {\"prompt\": \"Give me modules of Race car driving school course ->\", \"completion\": \"Curriculum:\\n\\nModule 1: Introduction to Race Car Driving\\n- Introduction to the course and safety briefings\\n- History of motorsports and race car driving\\n- Overview of race car components and systems\\n\\nModule 2: Vehicle Dynamics and Control\\n- Understanding weight transfer and balance\\n- Exploring suspension systems and setup\\n- Basics of tire grip and traction management\\n\\nModule 3: Essential Driving Techniques\\n- Proper seating and steering position\\n- Braking techniques for various situations\\n- Acceleration and throttle control\\n- Cornering techniques and racing lines\\n\\nModule 4: Precision Driving Exercises\\n- Slalom course and lane control exercises\\n- Skid pad training for controlled slides\\n- Controlled braking and emergency maneuvering\\n\\nModule 5: Advanced Racing Strategies\\n- Analyzing track layout and racing lines\\n- Overtaking strategies and defensive driving\\n- Pit stop procedures and race strategy\\n\\nModule 6: Race Track Etiquette and Safety\\n- Understanding flags and communication on the track\\n- Safety procedures during on-track sessions\\n- Simulated race scenarios and emergency response\\n\\nModule 7: Mental Conditioning for Racing\\n- Developing focus and concentration\\n- Managing stress and maintaining composure\\n- Visualization techniques for improved performance\\n\\nModule 8: Data Analysis and Performance Improvement\\n- Introduction to data logging and telemetry\\n- Analyzing driving data to identify areas for improvement\\n- Implementing changes based on data analysis\\n\\nModule 9: Graduation and Evaluation\\n- Practical assessment of driving skills and techniques\\n- Final driving session and evaluation\\n\"},\n",
    "        ]"
   ]
  },
  {
   "cell_type": "code",
   "execution_count": 12,
   "metadata": {},
   "outputs": [],
   "source": [
    "prompt = [item[\"prompt\"] for item in data]\n",
    "completion = [item[\"completion\"] for item in data]"
   ]
  },
  {
   "cell_type": "code",
   "execution_count": 13,
   "metadata": {},
   "outputs": [],
   "source": [
    "# Store in Vectorization\n",
    "vectorization = TfidfVectorizer()\n",
    "prompt_vectors = vectorization.fit_transform(prompt)\n",
    "completion_vectors = vectorization.transform(completion)\n"
   ]
  },
  {
   "cell_type": "code",
   "execution_count": 14,
   "metadata": {},
   "outputs": [],
   "source": [
    "same_matrix = cosine_similarity(prompt_vectors, completion_vectors)\n"
   ]
  },
  {
   "cell_type": "code",
   "execution_count": 15,
   "metadata": {},
   "outputs": [],
   "source": [
    "match_pecentage = same_matrix.max(axis=1) * 100\n"
   ]
  },
  {
   "cell_type": "code",
   "execution_count": 16,
   "metadata": {},
   "outputs": [
    {
     "name": "stdout",
     "output_type": "stream",
     "text": [
      "Prompt: Where is the billing for Race Car Driving School Seneca? ->\n",
      "Matching:  65.99\n",
      "====================\n",
      "Prompt: What will participants learn in this course? ->\n",
      "Matching:  56.45\n",
      "====================\n",
      "Prompt: What are the learning outcomes of the course? ->\n",
      "Matching:  42.50\n",
      "====================\n",
      "Prompt: What are the topics covered in the curriculum? ->\n",
      "Matching:  37.81\n",
      "====================\n",
      "Prompt: Can you provide more details about the Auckland campus? ->\n",
      "Matching:  38.37\n",
      "====================\n",
      "Prompt: How are the driving techniques taught in the course?\n",
      "Matching:  72.12\n",
      "====================\n",
      "Prompt: Give me modules of Race car driving school course ->\n",
      "Matching:  54.26\n",
      "====================\n"
     ]
    }
   ],
   "source": [
    "for i , prompt in enumerate(prompt):\n",
    "    print(f\"Prompt: {prompt}\")\n",
    "    print(f\"Matching:  {match_pecentage[i]:.2f}\")\n",
    "    print(\"=\" * 20)"
   ]
  },
  {
   "cell_type": "code",
   "execution_count": null,
   "metadata": {},
   "outputs": [],
   "source": []
  }
 ],
 "metadata": {
  "kernelspec": {
   "display_name": "env",
   "language": "python",
   "name": "python3"
  },
  "language_info": {
   "codemirror_mode": {
    "name": "ipython",
    "version": 3
   },
   "file_extension": ".py",
   "mimetype": "text/x-python",
   "name": "python",
   "nbconvert_exporter": "python",
   "pygments_lexer": "ipython3",
   "version": "3.9.6"
  },
  "orig_nbformat": 4
 },
 "nbformat": 4,
 "nbformat_minor": 2
}
